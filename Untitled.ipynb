{
 "cells": [
  {
   "cell_type": "code",
   "execution_count": 137,
   "metadata": {},
   "outputs": [
    {
     "name": "stdout",
     "output_type": "stream",
     "text": [
      "text_format/2.pdf.txt\n",
      "text_format/3.pdf.txt\n",
      "text_format/1.pdf.txt\n",
      "text_format/5.pdf.txt\n",
      "text_format/4.pdf.txt\n",
      "text_format/6.pdf.txt\n",
      "text_format/7.pdf.txt\n"
     ]
    }
   ],
   "source": [
    "import os\n",
    "import re\n",
    "\n",
    "import glob\n",
    "txt_files = glob.glob(\"text_format/*.txt\")\n",
    "\n",
    "# [print(file) for file in txt_files]\n",
    "\n",
    "file_lines=[]\n",
    "for file in txt_files:\n",
    "    f= open(file,\"r\")\n",
    "    file_lines.append(f.readlines())"
   ]
  },
  {
   "cell_type": "code",
   "execution_count": 148,
   "metadata": {},
   "outputs": [
    {
     "name": "stdout",
     "output_type": "stream",
     "text": [
      "File : text_format/2.pdf.txt\n",
      "215B.E.A.R.S.\n",
      "Invoice number : 72\n",
      "Invoice Date : 06/05/2018\n",
      "Purchase Order Number : NA\n",
      "Invoice Total : $750.00\n",
      "Payment terms : Hello you can make the check out to 215BEARS . 4613 Conshohocken Avenue Philadelphia PA 19131 . If invoice is not paid 30 days after services are rendered there will be a $25 Late fee added every day starting on the 31st day after\n",
      "\n",
      "File : text_format/1.pdf.txt\n",
      "Airport KPG III\n",
      "Invoice number : 39015\n",
      "Invoice Date : 6/1/2018\n",
      "Purchase Order Number : 16299\n",
      "Invoice Total : 17,657.53 \n",
      "Payment terms : NA\n",
      "\n",
      "File : text_format/4.pdf.txt\n",
      "Asian Pacific Serviced Offices\n",
      "Invoice number : I220-127612\n",
      "Invoice Date : 20/06/2015\n",
      "Purchase Order Number : NA\n",
      "Invoice Total : 572.00\n",
      "Payment terms : NA\n",
      "\n",
      "File : text_format/6.pdf.txt\n",
      "Oracle America\n",
      "Invoice number : 44273107\n",
      "Invoice Date : 18-Jun-2018\n",
      "Purchase Order Number : 1000021496\n",
      "Invoice Total : 1,580.50\n",
      "Payment terms : NA\n",
      "\n",
      "File : text_format/7.pdf.txt\n",
      "VERMONT AVENUE ASSOCIATES\n",
      "Invoice number : 5568\n",
      "Invoice Date : 6/12/2018\n",
      "Purchase Order Number : 17816\n",
      "Invoice Total : 2,487.73\n",
      "Payment terms : NA\n",
      "\n"
     ]
    }
   ],
   "source": [
    "for n,lines in enumerate(file_lines):\n",
    "    for line in lines:\n",
    "        if(re.findall(\"215B.E.A.R.S.\",line)):\n",
    "            print(\"File : \" + txt_files[n])\n",
    "            print(\"215B.E.A.R.S.\")\n",
    "            metadata_bears(lines)\n",
    "            break\n",
    "        elif(re.findall(\"Airport KPG III\",line)):\n",
    "            print(\"File : \" + txt_files[n])\n",
    "            print(\"Airport KPG III\")\n",
    "            metadata_airport(lines)\n",
    "            break\n",
    "        elif(re.findall(\"Asian Pacific Serviced Offices\",line)):\n",
    "            print(\"File : \" + txt_files[n])\n",
    "            print(\"Asian Pacific Serviced Offices\")\n",
    "            metadata_asian_pacific(lines)\n",
    "            break\n",
    "        elif(re.findall(\"Oracle America\",line)):\n",
    "            print(\"File : \" + txt_files[n])\n",
    "            print(\"Oracle America\")\n",
    "            metadata_oracle(lines)\n",
    "            break\n",
    "        elif(re.findall(\"VERMONT AVENUE ASSOCIATES\",line)):\n",
    "            print(\"File : \" + txt_files[n])\n",
    "            print(\"VERMONT AVENUE ASSOCIATES\")\n",
    "            metadata_vermont(lines)\n",
    "            break\n"
   ]
  },
  {
   "cell_type": "code",
   "execution_count": 139,
   "metadata": {},
   "outputs": [],
   "source": [
    "def metadata_vermont(lines):\n",
    "    print(\"Invoice number : \" + lines[24][:-1])\n",
    "    print(\"Invoice Date : \" + lines[22][:-1])\n",
    "    print(\"Purchase Order Number : \" + lines[25][:-1])\n",
    "    print(\"Invoice Total : \" + lines[388][1:-1])\n",
    "    print(\"Payment terms : NA\" )\n",
    "    print(\"\")"
   ]
  },
  {
   "cell_type": "code",
   "execution_count": 141,
   "metadata": {},
   "outputs": [],
   "source": [
    "def metadata_oracle(lines):\n",
    "    print(\"Invoice number : \" + lines[13][:-1])\n",
    "    print(\"Invoice Date : \" + lines[14][:-1])\n",
    "    print(\"Purchase Order Number : \" + lines[15][:-1])\n",
    "    print(\"Invoice Total : \" + lines[128][1:-1])\n",
    "    print(\"Payment terms : NA\" )\n",
    "    print(\"\")"
   ]
  },
  {
   "cell_type": "code",
   "execution_count": 142,
   "metadata": {},
   "outputs": [],
   "source": [
    "def metadata_asian_pacific(lines):\n",
    "    print(\"Invoice number : \" + lines[54][:-1])\n",
    "    print(\"Invoice Date : \" + lines[50][:-1])\n",
    "    print(\"Purchase Order Number : NA\")\n",
    "    print(\"Invoice Total : \" + lines[65][1:-1])\n",
    "    print(\"Payment terms : NA\" )\n",
    "    print(\"\")"
   ]
  },
  {
   "cell_type": "code",
   "execution_count": 143,
   "metadata": {},
   "outputs": [],
   "source": [
    "def metadata_bears(lines):\n",
    "    print(\"Invoice number : \" + lines[18][:-1])\n",
    "    print(\"Invoice Date : \" + lines[19][:-1])\n",
    "    print(\"Purchase Order Number : NA\")\n",
    "    print(\"Invoice Total : \" + lines[58][:-1])\n",
    "    print(\"Payment terms : \" + lines[62][:-1] + lines[63][:-1])\n",
    "    print(\"\")"
   ]
  },
  {
   "cell_type": "code",
   "execution_count": 144,
   "metadata": {},
   "outputs": [],
   "source": [
    "def metadata_airport(lines):\n",
    "    print(\"Invoice number : \" + lines[14][:-1])\n",
    "    print(\"Invoice Date : \" + lines[47][:-1])\n",
    "    print(\"Purchase Order Number : \" + lines[5][3:-1])\n",
    "    print(\"Invoice Total : \" + lines[65][1:-1])\n",
    "    print(\"Payment terms : NA\" )\n",
    "    print(\"\")"
   ]
  },
  {
   "cell_type": "code",
   "execution_count": null,
   "metadata": {},
   "outputs": [],
   "source": []
  },
  {
   "cell_type": "code",
   "execution_count": null,
   "metadata": {},
   "outputs": [],
   "source": []
  }
 ],
 "metadata": {
  "kernelspec": {
   "display_name": "Python 3",
   "language": "python",
   "name": "python3"
  },
  "language_info": {
   "codemirror_mode": {
    "name": "ipython",
    "version": 3
   },
   "file_extension": ".py",
   "mimetype": "text/x-python",
   "name": "python",
   "nbconvert_exporter": "python",
   "pygments_lexer": "ipython3",
   "version": "3.7.1"
  }
 },
 "nbformat": 4,
 "nbformat_minor": 2
}
